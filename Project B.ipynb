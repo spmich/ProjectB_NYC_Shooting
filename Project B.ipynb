{
 "cells": [
  {
   "cell_type": "markdown",
   "metadata": {},
   "source": [
    "# Project B"
   ]
  },
  {
   "cell_type": "markdown",
   "metadata": {},
   "source": [
    "## 1. Motivation.\n",
    "### What is your dataset?\n",
    "The assignment consists of multiple datasets:\n",
    "1. The shooting dataset\n",
    "2. NYC Demographics dataset\n",
    "3. NYC Economics dataset \n",
    "4. NYC Social dataset\n",
    "\n",
    "The shooting dataset contains the New York City Shooting Incidents from 2006 to 2018. It has data about the time, day, borough, police district and coordinates for every shooting incidents and it also includes the victims gender, age and race, and same information for the perpetrator, if they caught them. The dataset can be found here. (https://data.cityofnewyork.us/Public-Safety/NYPD-Shooting-Incident-Data-Historic-/833y-fsy8)\n",
    "\n",
    "The other three datasets, demographics, economics and social are 5 year estimates at the Neighborhood Tabulation Area (NTA) level in New York City. The years are from 2012 to 2016. The demographics dataset contains gender, age and race. The economics datasets contains employment status, income and benefits. The social dataset contains household types, school enrollments and educational attainments. All these datasets can be found here. (https://data.cityofnewyork.us/City-Government/Demographic-Profiles-of-ACS-5-Year-Estimates-at-th/8cwr-7pqn) The zip file also contains a fourth dataset about the value of the different houses and buildings in NYC, but that is not something, this project will look into. \n",
    "\n",
    "The geojson file, that will be used to map out the police district in New York City can be found here. (https://github.com/dwillis/nyc-maps/blob/master/police_precincts.geojson)\n",
    "\n",
    "### Why did you choose this/these particular dataset(s)?\n",
    "Since criminality and shootings in particular is expected to be caused/correlated by different factors such as the demographics and economics of a district, it would be interesting to present these values and for the user to explore these relationships themselves. \n",
    "### What was your goal for the end user's experience?\n",
    "The goal was to let the user explore the number of shootings for the different districts and compare this with different socioeconomic measures for that district. Also to let the user compare different districts.  \n"
   ]
  },
  {
   "cell_type": "markdown",
   "metadata": {},
   "source": [
    "## 2. Basic stats. Let's understand the dataset better\n",
    "### Write about your choices in data cleaning and preprocessing, and write a short section that discusses the dataset stats, containing key points/plots from your exploratory data analysis.\n",
    "The shooting dataset was split into three different datasets, one for victims, one for perpetrators and one for general information. This was mostly done because often the police don’t know who did the shooting and would therefore leave the information blank. This means that the victim dataset includes everyone, since it is always known who is shot, while the perpetrator dataset was shortened by removing all data points with empty information.\n",
    "\n",
    "The last dataset made from the shooting dataset contains only the borough, police district, year and total shooting incidents, which would be used for general map information.. \n",
    "\n",
    "One of the bigger challenges was to translate between the different geographical notations used in the different datasets, so that the information from the datasets would describe the same area. The shooting dataset used precincts as regions while the other datasets; demos, econ and soc used Neighborhood Tabulation Areas (NTA’s) as their regions. Because of this difference in the distinction of regions the datasets using NTA’s were translated to fit in precincts. This wasn’t a perfect fit and some of the NTA’s were inherited by multiple precincts, but it was a reasonable solution to the issue. \n",
    " \n"
   ]
  },
  {
   "cell_type": "markdown",
   "metadata": {},
   "source": [
    "## 3. Data Analysis\n",
    "### Describe your data analysis and explain what you've learned about the dataset.\n",
    "Even though the observableHQ never ended up telling much information that wasn’t already known, a lot was learned while cleaning the data in python. In the demographic dataset it was noted early on that women are actually a majority in New York City at about 55% of the population, and in some areas goes all the way up to 70%. This is quite the contrast when compared to the shooting dataset where men ended up accounting for 95% of both victims and perpetrators when it comes to shooting incidents. And when we began looking into how the different races were involved it turned out that even though black people account for about 25% of the population in New York City, they were responsible for almost 80% of shootings and 75% of the time they were the victims. \n",
    "\n",
    "This was the kind of discovery that the visualization was planned to further explore by going into the different regions and seeing if there’s also a relation to other social political topics such as income, employment or education, which we expected had the largest impact on shooting incidents.\n",
    "\n"
   ]
  },
  {
   "cell_type": "markdown",
   "metadata": {},
   "source": [
    "## 4. Genre. Which genre of data story did you use?\n",
    "The two main genres of narrative visualization were annotated charts and partitioned poster. The annotated charts would be mostly implemented into the map of New York City, where selecting a precinct would open up more information in a windows or similar where there would be slightly more in depth details regarding the area.\n",
    "\n",
    "The partitioned poster was supposed to show the map on the left with some of the histograms or pie charts to the right of it, which would change depending on what the user chose on the map or from the drop downs, a lot like the website gapminder, which was also mentioned in the second assignment to be a great source of inspiration. \n",
    "\n",
    "A minor genre would have been animation/transitions to make the user experience feel more fluid and immersive, so instead of data just popping out of nowhere, it would smoothly change from one plot to another. This was however a minor genre and therefore a secondary priority, but an example of the transitions can be seen later in the notebook. \n",
    "\n",
    "\n",
    "### Which tools did you use from each of the 3 categories of Visual Narrative (Figure 7 in Segal and Heer). Why?\n",
    "\n",
    "**Consistent Visual Platform**\n",
    "The notebook has a consistent visual platform, that doesn’t change a lot throughout the experience. Only the data will change depending on the users choices.\n",
    "\n",
    "**Feature Distinction**\n",
    "Through the use of color coding on the map, a distinction in the features become more clear to the user, who intuitively realizes that darker colors mean more shootings.\n",
    "\n",
    "**Animated Transitions**\n",
    "A small amount of transitions and animation was used to give the notebook a better visual flow which leads to more interesting experience than a constantly static page.\n",
    "\n",
    "\n",
    "### Which tools did you use from each of the 3 categories of Narrative Structure (Figure 7 in Segal and Heer). Why?\n",
    "\n",
    "**User Directed Path / Linear**\n",
    "The notebook makes use of a combination of user directed path and linear ordering. The path through the data is mostly linear, but it’s up the user to choose which data is the next to explore.\n",
    "\n",
    "**Hover Highlighting**\n",
    "The map makes use of highlighting which gives a visual navigation of which precinct is currently hovered over. On top of that it has similar effect as animation and transition that makes the notebook less static and feels more alive and interesting.\n",
    "\n",
    "**Filtering / Selection**\n",
    "The user filters through which precinct is currently the focus by clicking on the map (a drop-down menu was used to temporarily replace this feature). \n",
    "\n",
    "**Tacit Tutorial**\n",
    "By use of color coding on the map, the user is lead through a tacit tutorial to click on the areas of high amounts of shooting, which is often the more interesting parts of the story.\n",
    "\n",
    "**Stimulating Default Views**\n",
    "The first thing the user is met with is the default screen of the map, which is not only colorful, but also interactive and the histogram is set to show data as a default.\n"
   ]
  },
  {
   "cell_type": "markdown",
   "metadata": {},
   "source": [
    "## 5. Visualizations.\n",
    "### Explain the visualizations you've chosen, and why are they right for the story you want to tell?\n",
    "An interactive map of shootings in New York City divided into police precincts. It’s the main visualization that the users interact with and contains total shootings that happen in the chosen precinct which is also shown through color coding. This quickly gives the user an indication of which areas are of interest (from either high or low amounts of total shootings) which leads the user in the right direction to further explore the interesting areas of New York when it comes to shootings.\n",
    "\n",
    "The chosen precinct will then be further investigated in areas such as education and income through the use of histograms and race or gender through pie charts. The histograms are shown with dotted lines that show the average in each of the 5 major boroughs in New York City, so the user can easily compare the chosen precinct to the average and maybe draw conclusions or theories about the high or low amount of shootings in the area. Same goes for the pie charts, but they are instead compared with population statistics, to see if the victims or perpetrators follow the general gender or race trend of the city. \n",
    "\n",
    "It’s also possible to select multiple precincts to make a better comparison when using the histograms.\n",
    "\n"
   ]
  },
  {
   "cell_type": "markdown",
   "metadata": {},
   "source": [
    "## 6. Discussion. Think critically about your creation\n",
    "### What went well?\n",
    "The map - Almost fully implemented, has color coding of the map, can hover and select different distinct with the correct shooting data attached.\n",
    "\n",
    "Histogram - Histogram is functional and a precinct can be chosen from a drop down menu, which will not only use the correct data, but also scale to different sizes depending on the minimum and maximum values of the precinct.\n",
    "\n",
    "### What is still missing? What could be improved?, Why?\n",
    "The following missing features were mostly due to lack of experience working with both d3, Javascript and ObservableHQ. Some features were also prioritized above others, which means that more features could probably have been finished if we haven’t chosen to prioritize implementation of more important features.\n",
    "\n",
    "Connectivity between the map and histogram never became fully functional, choosing a precinct on the map should change the histogram/pie charts. This was one of the main pain areas and it was never discovered why this wouldn’t work.\n",
    "\n",
    "Implementation of the feature where you can select multiple precinct would maybe have been functional, but was impossible to test since the map and histograms wouldn’t communicate which also lead to trouble with some of the histograms. The histograms were supposed to support multiple precinct selection too (one bar for each chosen precinct), which didn’t work because of the previous mentioned feature and would end up with only a single selected precinct.\n",
    "\n",
    "The pie chart were somewhat complete, but was put on hold to focus on the connectivity problem between the map and the rest. Even a bit of animation/transition from one precinct to another was implemented in our pie/donut charts (can be seen here): https://giphy.com/gifs/3dgfdu4YkTpJfFzYQX/html5)"
   ]
  },
  {
   "cell_type": "markdown",
   "metadata": {},
   "source": [
    "## 7. Contributions. Who did what?\n",
    "\n",
    "**Jens**: Build the barchart. Clear dataset NYC shooting. Clear demographics dataset. Piechart (unused)\n",
    "\n",
    "**Kia**: Build the barchart. Clear social+demos+economic datasets. Connect NTA with precinct. \n",
    "\n",
    "**Michala**: GeoJSON + build the map. Clear dataset to precinct + NTA. Clear economics dataset. Preparing smaller dataset out of NYC shooting dataset. Econ barchart (unused)\n",
    "\n"
   ]
  },
  {
   "cell_type": "code",
   "execution_count": null,
   "metadata": {},
   "outputs": [],
   "source": []
  }
 ],
 "metadata": {
  "kernelspec": {
   "display_name": "Python 3",
   "language": "python",
   "name": "python3"
  },
  "language_info": {
   "codemirror_mode": {
    "name": "ipython",
    "version": 3
   },
   "file_extension": ".py",
   "mimetype": "text/x-python",
   "name": "python",
   "nbconvert_exporter": "python",
   "pygments_lexer": "ipython3",
   "version": "3.7.1"
  }
 },
 "nbformat": 4,
 "nbformat_minor": 2
}
